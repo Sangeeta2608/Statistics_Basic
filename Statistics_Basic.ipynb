{
  "nbformat": 4,
  "nbformat_minor": 0,
  "metadata": {
    "colab": {
      "provenance": []
    },
    "kernelspec": {
      "name": "python3",
      "display_name": "Python 3"
    },
    "language_info": {
      "name": "python"
    }
  },
  "cells": [
    {
      "cell_type": "markdown",
      "source": [
        "#1.What is statistics, and why is it important?\n",
        "Statistics is the branch of mathematics that deals with collecting, analyzing, interpreting, presenting, and organizing data. It helps us make sense of data by summarizing it and drawing conclusions or making decisions based on that data."
      ],
      "metadata": {
        "id": "HsN_gxe9Bddl"
      }
    },
    {
      "cell_type": "markdown",
      "source": [
        "#2.What are the two main types of statistics?\n",
        "The two main types of statistics are:\n",
        "1.Descriptive Statistics\n",
        "2.Inferential Statistics"
      ],
      "metadata": {
        "id": "EwwJ-uGiCAEw"
      }
    },
    {
      "cell_type": "markdown",
      "source": [
        "#3.What are descriptive statistics?\n",
        "Descriptive statistics summarize and organize data so it can be easily understood.The purpose of descriptive statistics is To describe the main features of a dataset without making conclusions beyond the data.\n",
        "Examples: Averages (mean, median, mode), percentages, graphs (bar charts, pie charts), and measures of spread (range, standard deviation)."
      ],
      "metadata": {
        "id": "ENMSDmARDbqg"
      }
    },
    {
      "cell_type": "markdown",
      "source": [
        "#4.What is inferential statistics?\n",
        "Inferential statistics use data from a sample to make predictions or generalizations about a larger population.it is used to draw conclusions or make decisions about a population based on sample data.\n",
        "Examples: Hypothesis testing, confidence intervals, regression analysis, and significance tests."
      ],
      "metadata": {
        "id": "oLvAijy_DsIO"
      }
    },
    {
      "cell_type": "markdown",
      "source": [
        "#5.What is sampling in statistics?\n",
        "Sampling in statistics is the process of selecting a subset from a larger group in order to analyze and draw conclusions about the entire population without having to study every single member.\n",
        "we use sampling beacuse studying an entire population can be too costly, time-consuming, or impractical.A well-chosen sample can give accurate and reliable insights about the whole population.\n"
      ],
      "metadata": {
        "id": "-dvBWjrcER5F"
      }
    },
    {
      "cell_type": "markdown",
      "source": [
        "#6.What are the different types of sampling methods?\n",
        "Types of Sampling Methods:\n",
        "1.Random Sampling-Every member has an equal chance of being selected.\n",
        "2.Stratified Sampling-Population is divided into groups (strata), and samples are taken from each group.\n",
        "3.Systematic Sampling-Selecting every kth member from a list.\n",
        "4.Cluster Sampling-Dividing population into clusters and randomly selecting entire clusters.\n",
        "5.Convenience Sampling-Choosing individuals who are easiest to reach (less reliable)."
      ],
      "metadata": {
        "id": "4bRkVCAVFQ4c"
      }
    },
    {
      "cell_type": "markdown",
      "source": [
        "#7.What is the difference between random and non-random sampling?\n",
        "Random Sampling:\n",
        "In random sampling, every member of the population has a known and equal chance of being selected.Random sampling produce an unbiased, representative sample.\n",
        "It includes Simple random sampling, stratified sampling, systematic sampling, and cluster sampling.\n",
        "Non-Random Sampling:\n",
        "In non-random sampling, not all members have a known or equal chance of being chosen. Selection often depends on convenience, judgment, or specific characteristics.It Often used when random sampling isn't practical.\n",
        "It includes Convenience sampling, judgmental sampling, quota sampling, and snowball sampling.\n"
      ],
      "metadata": {
        "id": "snyALQLbF0mj"
      }
    },
    {
      "cell_type": "markdown",
      "source": [
        "#8.Define and give examples of qualitative and quantitative data?\n",
        "Qualitative Data (also called categorical data):\n",
        "Data that describes qualities or characteristics and cannot be measured numerically.Eg:Colors of cars (red, blue, black),Types of fruits (apple, banana, mango).\n",
        "Quantitative Data (also called numerical data):\n",
        "Data that represents quantities and can be measured or counted.Eg:Height in centimeters (170 cm, 180 cm),Number of students in a class (25, 30, 32)\n",
        "\n"
      ],
      "metadata": {
        "id": "EglBMlhMHLmd"
      }
    },
    {
      "cell_type": "markdown",
      "source": [
        "#9.What are the different types of data in statistics?\n",
        "In statistics, data is broadly classified into two main types:\n",
        "1.Qualitative Data (Categorical Data):\n",
        "Describes qualities, categories, or labels—non-numerical in nature.\n",
        "Types of Qualitative Data:\n",
        "a.Nominal Data:\n",
        "No natural order or ranking.Examples: Eye color (blue, green), gender (male, female)\n",
        "b.Ordinal Data:\n",
        "Has a meaningful order, but the differences between values are not measurable.\n",
        "Examples: Education level (high school, bachelor's, master's)\n",
        "2.Quantitative Data (Numerical Data)\n",
        "Consists of numbers representing counts or measurements.\n",
        "Types of Quantitative Data:\n",
        "a.Discrete Data:\n",
        "Countable, often whole numbers.Examples: Number of children in a family(0,1,2)\n",
        "b.Continuous Data:Measurable and can take any value within a range.Examples: Height (175.2 cm), weight (70.5 kg), temperature (23.6°C).\n",
        "\n",
        "\n",
        "\n"
      ],
      "metadata": {
        "id": "gRYFqme_H16k"
      }
    },
    {
      "cell_type": "markdown",
      "source": [
        "#10.Explain nominal, ordinal, interval, and ratio levels of measurement?\n",
        "In statistics, data can be classified into four levels of measurement—nominal, ordinal, interval, and ratio.\n",
        "1.Nominal Level:Data is grouped into categories with no logical order.Eg:Blood type: A, B, AB, O,Gender: Male, Female,Eye color: Blue, Brown, Green\n",
        "2.Ordinal Level:Data has categories with a logical order, but differences between values are not measurable or consistent.Eg:Education level: High school, Bachelor's, Master's,Customer satisfaction: Very satisfied, Satisfied, Neutral, Dissatisfied\n",
        "3.Interval Level:Numeric data with equal intervals between values, but no true zero point.Eg:Temperature in Celsius or Fahrenheit,IQ scores,Dates on a calendar\n",
        "4.Ratio Level:Numeric data with equal intervals and a true zero, allowing for meaningful ratios.Eg:Weight,Height,Age."
      ],
      "metadata": {
        "id": "roMZ1UvlJUxu"
      }
    },
    {
      "cell_type": "markdown",
      "source": [
        "#11.What is the measure of central tendency?\n",
        "A measure of central tendency is a single value that summarizes or represents the center point of a dataset. It gives you an idea of the \"typical\" or \"average\" value in a group of numbers.\n",
        "The Three Main Measures:\n",
        "1.Mean (Arithmetic Average):Sum of all values divided by the number of values.\n",
        "Formula:Mean=Sum of all values/Number of values\n",
        "Example: For scores 70, 80, 90:\n",
        "Mean=(70+80+90)/3=80\n",
        "2.Median:The middle value when data is arranged in order.\n",
        "If there's an even number of values, it's the average of the two middle ones.\n",
        "Example:(10, 20, 30) → Median = 20,\n",
        "10, 20, 30, 40 → Median = (20 + 30)/2 = 25\n",
        "3.Mode:The value that occurs most frequently.\n",
        "Example: In the set 2, 4, 4, 5, 6 → Mode = 4\n",
        "If all values occur equally, there may be no mode or multiple modes.\n",
        "\n",
        "\n",
        "\n"
      ],
      "metadata": {
        "id": "p8zVTCwtMl4c"
      }
    },
    {
      "cell_type": "markdown",
      "source": [
        "#12. Define mean, median, and mode?\n",
        "1.Mean (Arithmetic Average):Sum of all values divided by the number of values.\n",
        "Formula:Mean=Sum of all values/Number of values\n",
        "Example: For scores 70, 80, 90:\n",
        "Mean=(70+80+90)/3=80\n",
        "2.Median:The middle value when data is arranged in order.\n",
        "If there's an even number of values, it's the average of the two middle ones.\n",
        "Example:(10, 20, 30) → Median = 20,\n",
        "10, 20, 30, 40 → Median = (20 + 30)/2 = 25\n",
        "3.Mode:The value that occurs most frequently.\n",
        "Example: In the set 2, 4, 4, 5, 6 → Mode = 4\n",
        "If all values occur equally, there may be no mode or multiple modes."
      ],
      "metadata": {
        "id": "aheoRQqAPXjc"
      }
    },
    {
      "cell_type": "markdown",
      "source": [
        "#13.What is the significance of the measure of central tendency?\n",
        "The measure of central tendency is crucial in statistics because it helps us understand and interpret data by identifying the \"center\" or \"typical value\" of a dataset.\n",
        "Measure of central tendency is important because it helps summarize and describe key characteristics of data quickly,it facilitates comparision between different groups or datasets.It is Used by businesses, governments, and researchers to make data-driven choices.Many statistical methods (e.g., variance, standard deviation, regression) start with the mean or rely on it."
      ],
      "metadata": {
        "id": "gwXa0F5xQVre"
      }
    },
    {
      "cell_type": "markdown",
      "source": [
        "#14.What is variance, and how is it calculated?\n",
        "Variance is a measure of how spread out the values in a dataset are from the mean (average). It tells you how much the data varies or deviates from the average.\n",
        "1.A low variance means data points are close to the mean.\n",
        "2.A high variance means data points are spread out over a wide range.\n",
        "\n"
      ],
      "metadata": {
        "id": "_rLZHvvSKJIk"
      }
    },
    {
      "cell_type": "markdown",
      "source": [
        "#15.What is standard deviation, and why is it important?\n",
        "Standard deviation is a measure of how spread out or dispersed the values in a dataset are relative to the mean (average). It is the square root of the variance, which makes it easier to interpret because it's in the same units as the original data.\n",
        "standard deviation is important because\n",
        "1.Measures Consistency or Spread\n",
        "A low standard deviation means data points are close to the mean (consistent).\n",
        "A high standard deviation means data points vary widely (less consistent).\n",
        "2.Helps Understand Distribution\n",
        "It shows how much variability exists in the dataset.\n",
        "In a normal distribution, about 68% of values fall within 1 standard deviation of the mean.\n",
        "3.Useful in Risk Analysis\n",
        "In finance or quality control, standard deviation helps assess risk or volatility.\n",
        "4.Foundation for Other Statistical Tools\n",
        "It's used in calculating z-scores, confidence intervals, and in hypothesis testing.\n",
        "\n"
      ],
      "metadata": {
        "id": "RyD9COkyK0ra"
      }
    },
    {
      "cell_type": "markdown",
      "source": [
        "#16.Define and explain the term range in statistics?\n",
        "In statistics, the range is a measure of dispersion that indicates the spread or variability within a set of data.\n",
        "The range is the difference between the largest(maximum) and smallest(minimum) values in a dataset.\n",
        "Range=Maximum_value-Minimum_value\n",
        "\n"
      ],
      "metadata": {
        "id": "wLZcRrE3Lm8-"
      }
    },
    {
      "cell_type": "markdown",
      "source": [
        "#17.What is the difference between variance and standard deviation?\n",
        "Variance measures the average of the squared differences from the mean.\n",
        "unit of variance is  Squared units of the original data (e.g., if data is in meters, variance is in square meters).\n",
        "Standard deviation is the square root of the variance. It brings the measure of spread back to the original units of the data.\n",
        "unit of standard deviation is same as the unit of original data."
      ],
      "metadata": {
        "id": "PTcVjoyg6RHT"
      }
    },
    {
      "cell_type": "markdown",
      "source": [
        "#18.What is skewness in a dataset?\n",
        "Skewness is a statistical measure that describes the asymmetry or lack of symmetry in the distribution of data values.Skewness tells us how much and in which direction the data deviates from a normal (symmetrical bell-shaped) distribution.\n"
      ],
      "metadata": {
        "id": "auG2wyUpBnAd"
      }
    },
    {
      "cell_type": "markdown",
      "source": [
        "#19.What does it mean if a dataset is positively or negatively skewed?\n",
        "If a dataset is positively or negatively skewed, it means the data is not symmetrically distributed, and the tails of the distribution stretch more on one side than the other.\n",
        "1.Positively Skewed (Right-Skewed) Data:\n",
        "Tail stretches to the right (higher values)\n",
        "Most values are clustered on the lower end (left side)\n",
        "There are a few very large values pulling the mean upward\n",
        "Mean > Median > Mode\n",
        "2.Negatively Skewed (Left-Skewed) Data:\n",
        "Tail stretches to the left (lower values)\n",
        "Most values are clustered on the higher end (right side)\n",
        "A few very small values pull the mean downward\n",
        "Mean< Median < Mode"
      ],
      "metadata": {
        "id": "A3I2l9gXCZq9"
      }
    },
    {
      "cell_type": "markdown",
      "source": [
        "#20.Define and explain kurtosis.\n",
        "Kurtosis is a statistical measure that describes the \"tailedness\" or peakedness of a distribution — in other words, how heavy or light the tails of the distribution are compared to a normal distribution."
      ],
      "metadata": {
        "id": "gO26eHfDDRYM"
      }
    },
    {
      "cell_type": "markdown",
      "source": [
        "#21.What is the purpose of covariance?\n",
        "Covariance is a statistical measure that indicates the direction of the linear relationship between two random variables.\n",
        "Purpose of Covariance:\n",
        "It helps you understand how two variables move together:\n",
        "If positive, the variables tend to increase or decrease together.\n",
        "If negative, one tends to increase when the other decreases.\n",
        "If zero or near zero, there's likely no consistent linear relationship.\n"
      ],
      "metadata": {
        "id": "9shiIuFdD-u2"
      }
    },
    {
      "cell_type": "markdown",
      "source": [
        "#22.What does correlation measure in statistics?\n",
        "Correlation in statistics measures the strength and direction of a linear relationship between two variables.\n",
        "Correlation values lie between -1 and 1.\n",
        "+1 → Perfect positive linear relationship\n",
        "-1 → Perfect negative linear relationship\n",
        "0 → No linear relationship\n",
        "Positive correlation means both variables increase together.\n",
        "Negative correlation means one increases as the other decreases."
      ],
      "metadata": {
        "id": "TUgAX9OULX0Q"
      }
    },
    {
      "cell_type": "markdown",
      "source": [
        "#23. What is the difference between covariance and correlation?\n",
        "Covariance shows direction only(positive/negative).Ranges between From -∞ to +∞.Covariance Used in portfolio theory and to compute correlation.\n",
        "Correlation shows both direction and strength, and is scale-independent.Ranges between From -1 to +1.Correlation Used to assess relationship strength, feature selection"
      ],
      "metadata": {
        "id": "vcN6GPqTON0O"
      }
    },
    {
      "cell_type": "markdown",
      "source": [
        "#24.What are some real-world applications of statistics?\n",
        "Some major real-world applications of statistics across different sectors:\n",
        "1.Healthcare and Medicine\n",
        "2.Business and Marketing\n",
        "3.Finance and Banking\n",
        "4.Government and Public Policy\n",
        "5.Education\n",
        "6.Science and Research\n",
        "7.Environmental Studies"
      ],
      "metadata": {
        "id": "gGvCddSKQtC9"
      }
    },
    {
      "cell_type": "markdown",
      "source": [
        "#1.How do you calculate the mean, median, and mode of a dataset?\n",
        "mean:The sum of all values divided by the number of values.\n",
        "mean=(sum of values)/number of values.\n",
        "median:The middle value in an ordered dataset.If there's an even number of values, it's the average of the two middle ones.\n",
        "Steps to calculate median:\n",
        "Sort the data.\n",
        "If odd number of values → take the middle one.\n",
        "If even → average the two middle values.\n",
        "Eg:Odd:[1, 3, 5] → Median = 3\n",
        "Even:[2, 4, 6, 8] → Median = (4+6)/2=5\n",
        "Mode:The value that appears most frequently in the dataset.\n",
        "Eg:[1, 2, 2, 3, 4] → Mode = 2\n",
        "[5, 5, 6, 6, 7] → Two modes: 5 and 6 (bimodal)\n",
        "[1, 2, 3] → No mode (all values occur once)\n"
      ],
      "metadata": {
        "id": "UBac8kwhSmdg"
      }
    },
    {
      "cell_type": "code",
      "source": [
        "#2.Write a Python program to compute the variance and standard deviation of a dataset?\n",
        "import math\n",
        "data = [4, 8, 6, 5, 3, 7, 9]\n",
        "mean = sum(data) / len(data)\n",
        "squared_diffs = [(x - mean) ** 2 for x in data]\n",
        "variance = sum(squared_diffs) / len(data)\n",
        "std_deviation = math.sqrt(variance)\n",
        "print(f\"Mean: {mean}\")\n",
        "print(f\"Variance: {variance}\")\n",
        "print(f\"Standard Deviation: {std_deviation}\")"
      ],
      "metadata": {
        "colab": {
          "base_uri": "https://localhost:8080/"
        },
        "id": "TaNNkFepU9jy",
        "outputId": "4a968dc0-689c-4345-ebfc-78ce7db43353"
      },
      "execution_count": null,
      "outputs": [
        {
          "output_type": "stream",
          "name": "stdout",
          "text": [
            "Mean: 6.0\n",
            "Variance: 4.0\n",
            "Standard Deviation: 2.0\n"
          ]
        }
      ]
    },
    {
      "cell_type": "code",
      "source": [
        "#3.Create a dataset and classify it into nominal, ordinal, interval, and ratio types.\n",
        "import pandas as pd\n",
        "data = {\n",
        "    'Student ID': [1001, 1002, 1003, 1004],\n",
        "    'Name': ['A', 'B', 'C', 'D'],\n",
        "    'Grade Level': ['Freshman', 'Sophomore', 'Junior', 'Senior'],\n",
        "    'GPA': [3.8, 3.4, 3.9, 3.2],\n",
        "    'Birth Year': [2005, 2004, 2003, 2002],\n",
        "    'Gender': ['Female', 'Male', 'Male', 'Female'],\n",
        "    'Satisfaction Rating': [4, 3, 5, 2],\n",
        "    'Height (cm)': [165, 172, 180, 160],\n",
        "    'Number of Courses': [5, 6, 7, 4]\n",
        "}\n",
        "df = pd.DataFrame(data)\n",
        "print(\"Dataset:\\n\", df)\n",
        "classification = {\n",
        "    'Student ID': 'Nominal',\n",
        "    'Name': 'Nominal',\n",
        "    'Grade Level': 'Ordinal',\n",
        "    'GPA': 'Interval',\n",
        "    'Birth Year': 'Interval',\n",
        "    'Gender': 'Nominal',\n",
        "    'Satisfaction Rating': 'Ordinal',\n",
        "    'Height (cm)': 'Ratio',\n",
        "    'Number of Courses': 'Ratio'\n",
        "}\n",
        "print(\"\\nData Type Classification:\")\n",
        "for col, dtype in classification.items():\n",
        "    print(f\"{col}: {dtype}\")\n",
        "\n"
      ],
      "metadata": {
        "id": "59cqmmfKVlq3",
        "colab": {
          "base_uri": "https://localhost:8080/"
        },
        "outputId": "28a37db0-f80b-45d4-a55d-e7cc26d503e3"
      },
      "execution_count": null,
      "outputs": [
        {
          "output_type": "stream",
          "name": "stdout",
          "text": [
            "Dataset:\n",
            "    Student ID Name Grade Level  GPA  Birth Year  Gender  Satisfaction Rating  \\\n",
            "0        1001    A    Freshman  3.8        2005  Female                    4   \n",
            "1        1002    B   Sophomore  3.4        2004    Male                    3   \n",
            "2        1003    C      Junior  3.9        2003    Male                    5   \n",
            "3        1004    D      Senior  3.2        2002  Female                    2   \n",
            "\n",
            "   Height (cm)  Number of Courses  \n",
            "0          165                  5  \n",
            "1          172                  6  \n",
            "2          180                  7  \n",
            "3          160                  4  \n",
            "\n",
            "Data Type Classification:\n",
            "Student ID: Nominal\n",
            "Name: Nominal\n",
            "Grade Level: Ordinal\n",
            "GPA: Interval\n",
            "Birth Year: Interval\n",
            "Gender: Nominal\n",
            "Satisfaction Rating: Ordinal\n",
            "Height (cm): Ratio\n",
            "Number of Courses: Ratio\n"
          ]
        }
      ]
    },
    {
      "cell_type": "code",
      "source": [
        "#4.Implement sampling techniques like random sampling and stratified sampling.\n",
        "import random\n",
        "import numpy as np\n",
        "data = [1, 2, 3, 4, 5, 6, 7, 8, 9, 10]\n",
        "random_sample = random.sample(data, 3)\n",
        "print(\"Random Sample:\",random_sample)\n",
        "strata1 = [1, 2, 3, 4, 5]\n",
        "strata2 = [6, 7, 8, 9, 10]\n",
        "stratified_sample = random.sample(strata1, 2) + random.sample(strata2, 3)\n",
        "print(\"Stratified Sample:\", stratified_sample)\n",
        "\n"
      ],
      "metadata": {
        "colab": {
          "base_uri": "https://localhost:8080/"
        },
        "id": "te8neklbm4xC",
        "outputId": "aa5a6fb8-406e-4aac-a87d-51ac6ce206dd"
      },
      "execution_count": null,
      "outputs": [
        {
          "output_type": "stream",
          "name": "stdout",
          "text": [
            "Random Sample: [4, 7, 6]\n",
            "Stratified Sample: [3, 4, 9, 6, 10]\n"
          ]
        }
      ]
    },
    {
      "cell_type": "code",
      "source": [
        "#5.Write a Python function to calculate the range of a dataset.\n",
        "def calculate_range(data):\n",
        "    if not data:\n",
        "        raise ValueError(\"The dataset is empty.\")\n",
        "\n",
        "    numeric_data = [x for x in data if isinstance(x, (int, float))]\n",
        "\n",
        "    if not numeric_data:\n",
        "        raise ValueError(\"The dataset contains no numeric values.\")\n",
        "\n",
        "    return max(numeric_data) - min(numeric_data)\n",
        "\n",
        "sample_data = [3.8, 3.4, 3.9, 3.2, 3.7, 3.0]\n",
        "range_value = calculate_range(sample_data)\n",
        "print(\"Range of the dataset:\", range_value)\n",
        "\n",
        "\n",
        "\n"
      ],
      "metadata": {
        "colab": {
          "base_uri": "https://localhost:8080/"
        },
        "id": "SqYMCI4soZZ9",
        "outputId": "bb62fc21-9210-452d-fe96-86d13f236007"
      },
      "execution_count": null,
      "outputs": [
        {
          "output_type": "stream",
          "name": "stdout",
          "text": [
            "Range of the dataset: 0.8999999999999999\n"
          ]
        }
      ]
    },
    {
      "cell_type": "code",
      "source": [
        "#6.Create a dataset and plot its histogram to visualize skewness.\n",
        "import numpy as np\n",
        "import matplotlib.pyplot as plt\n",
        "data = np.random.normal(0,1,1000)\n",
        "plt.hist(data,bins=30,edgecolor='black')"
      ],
      "metadata": {
        "colab": {
          "base_uri": "https://localhost:8080/",
          "height": 621
        },
        "id": "8NP_PMBfw36p",
        "outputId": "cbc87ebc-8b32-424f-91fe-687cd9a64143"
      },
      "execution_count": null,
      "outputs": [
        {
          "output_type": "execute_result",
          "data": {
            "text/plain": [
              "(array([ 2.,  0.,  2.,  0.,  5.,  7.,  9., 24., 33., 34., 45., 54., 74.,\n",
              "        91., 72., 88., 71., 90., 60., 53., 50., 53., 30., 22., 15.,  4.,\n",
              "         5.,  4.,  2.,  1.]),\n",
              " array([-3.3543911 , -3.14045305, -2.926515  , -2.71257696, -2.49863891,\n",
              "        -2.28470086, -2.07076282, -1.85682477, -1.64288672, -1.42894867,\n",
              "        -1.21501063, -1.00107258, -0.78713453, -0.57319648, -0.35925844,\n",
              "        -0.14532039,  0.06861766,  0.28255571,  0.49649375,  0.7104318 ,\n",
              "         0.92436985,  1.13830789,  1.35224594,  1.56618399,  1.78012204,\n",
              "         1.99406008,  2.20799813,  2.42193618,  2.63587423,  2.84981227,\n",
              "         3.06375032]),\n",
              " <BarContainer object of 30 artists>)"
            ]
          },
          "metadata": {},
          "execution_count": 17
        },
        {
          "output_type": "display_data",
          "data": {
            "text/plain": [
              "<Figure size 640x480 with 1 Axes>"
            ],
            "image/png": "[encoded data removed]"
          },
          "metadata": {}
        }
      ]
    },
    {
      "cell_type": "code",
      "source": [
        "#7.Calculate skewness and kurtosis of a dataset using Python libraries.\n",
        "import numpy as np\n",
        "from scipy.stats import skew, kurtosis\n",
        "data = [3.8, 3.4, 3.9, 3.2, 3.7, 3.0]\n",
        "skewness_value = skew(data)\n",
        "kurtosis_value = kurtosis(data)\n",
        "print(\"Skewness:\", skewness_value)\n",
        "print(\"Kurtosis:\", kurtosis_value)\n"
      ],
      "metadata": {
        "colab": {
          "base_uri": "https://localhost:8080/"
        },
        "id": "_fods2ypx1QH",
        "outputId": "59ecada1-be25-4ab1-fd14-8744f565c0d0"
      },
      "execution_count": null,
      "outputs": [
        {
          "output_type": "stream",
          "name": "stdout",
          "text": [
            "Skewness: -0.25834462130916347\n",
            "Kurtosis: -1.4472656250000002\n"
          ]
        }
      ]
    },
    {
      "cell_type": "code",
      "source": [
        "#8. Generate a dataset and demonstrate positive and negative skewness.\n",
        "import numpy as np\n",
        "import matplotlib.pyplot as plt\n",
        "data = np.random.normal(0,1,1000)\n",
        "plt.hist(data,bins=30,edgecolor='black')\n"
      ],
      "metadata": {
        "colab": {
          "base_uri": "https://localhost:8080/",
          "height": 621
        },
        "id": "ganDamZYyidh",
        "outputId": "b0b8778d-a00a-4b61-c192-fd2ed06e7951"
      },
      "execution_count": null,
      "outputs": [
        {
          "output_type": "execute_result",
          "data": {
            "text/plain": [
              "(array([ 1.,  0.,  1.,  2.,  4.,  7., 17., 12., 17., 24., 39., 51., 74.,\n",
              "        91., 80., 86., 82., 75., 84., 58., 57., 39., 33., 27., 12., 10.,\n",
              "         2.,  5.,  8.,  2.]),\n",
              " array([-3.39619562, -3.18636053, -2.97652544, -2.76669035, -2.55685527,\n",
              "        -2.34702018, -2.13718509, -1.92735001, -1.71751492, -1.50767983,\n",
              "        -1.29784475, -1.08800966, -0.87817457, -0.66833949, -0.4585044 ,\n",
              "        -0.24866931, -0.03883423,  0.17100086,  0.38083595,  0.59067104,\n",
              "         0.80050612,  1.01034121,  1.2201763 ,  1.43001138,  1.63984647,\n",
              "         1.84968156,  2.05951664,  2.26935173,  2.47918682,  2.6890219 ,\n",
              "         2.89885699]),\n",
              " <BarContainer object of 30 artists>)"
            ]
          },
          "metadata": {},
          "execution_count": 19
        },
        {
          "output_type": "display_data",
          "data": {
            "text/plain": [
              "<Figure size 640x480 with 1 Axes>"
            ],
            "image/png": "[encoded data removed]"
          },
          "metadata": {}
        }
      ]
    },
    {
      "cell_type": "code",
      "source": [
        "#9.Write a Python script to calculate covariance between two datasets.\n",
        "def calculate_covariance(x, y):\n",
        "    if len(x) != len(y):\n",
        "        raise ValueError(\"Datasets must have the same length.\")\n",
        "\n",
        "    n = len(x)\n",
        "    mean_x = sum(x) / n\n",
        "    mean_y = sum(y) / n\n",
        "\n",
        "    covariance = sum((x[i] - mean_x) * (y[i] - mean_y) for i in range(n)) / (n - 1)\n",
        "    return covariance\n",
        "\n",
        "x = [3.8, 3.4, 3.9, 3.2, 3.7, 3.0]\n",
        "y = [165, 172, 180, 160, 170, 158]\n",
        "\n",
        "cov = calculate_covariance(x, y)\n",
        "print(\"Covariance:\", cov)\n"
      ],
      "metadata": {
        "colab": {
          "base_uri": "https://localhost:8080/"
        },
        "id": "UB7kd9-qyxL4",
        "outputId": "4ea4e146-4189-484c-fea0-3f276395ee1a"
      },
      "execution_count": null,
      "outputs": [
        {
          "output_type": "stream",
          "name": "stdout",
          "text": [
            "Covariance: 2.2599999999999993\n"
          ]
        }
      ]
    },
    {
      "cell_type": "code",
      "source": [
        "#10.Write a Python script to calculate the correlation coefficient between two datasets.\n",
        "def calculate_correlation(x, y):\n",
        "    if len(x) != len(y):\n",
        "        raise ValueError(\"Datasets must have the same length.\")\n",
        "\n",
        "    n = len(x)\n",
        "    mean_x = sum(x) / n\n",
        "    mean_y = sum(y) / n\n",
        "    numerator = sum((x[i] - mean_x) * (y[i] - mean_y) for i in range(n))\n",
        "    denominator = (sum((x[i] - mean_x)**2 for i in range(n)) * sum((y[i] - mean_y)**2 for i in range(n))) ** 0.5\n",
        "    if denominator == 0:\n",
        "        raise ValueError(\"Division by zero in correlation calculation.\")\n",
        "    return numerator / denominator\n",
        "x = [3.8, 3.4, 3.9, 3.2, 3.7, 3.0]\n",
        "y = [165, 172, 180, 160, 170, 158]\n",
        "corr_manual = calculate_correlation(x, y)\n",
        "print(\"Correlation Coefficient:\", corr_manual)\n"
      ],
      "metadata": {
        "id": "ta-RHhO79zvq",
        "colab": {
          "base_uri": "https://localhost:8080/"
        },
        "outputId": "7a693a61-4d88-473c-c529-56b0d9a27bd4"
      },
      "execution_count": null,
      "outputs": [
        {
          "output_type": "stream",
          "name": "stdout",
          "text": [
            "Correlation Coefficient: 0.7711559152360672\n"
          ]
        }
      ]
    },
    {
      "cell_type": "code",
      "source": [
        "#11.Create a scatter plot to visualize the relationship between two variables.\n",
        "import matplotlib.pyplot as plt\n",
        "x = [1, 2, 3, 4, 5]\n",
        "y = [2, 4, 6, 8, 10]\n",
        "plt.scatter(x, y)\n",
        "plt"
      ],
      "metadata": {
        "colab": {
          "base_uri": "https://localhost:8080/",
          "height": 447
        },
        "id": "m3M7BwIE_n_7",
        "outputId": "ff3b197e-7292-4aa1-a6f1-4992e27b8684"
      },
      "execution_count": null,
      "outputs": [
        {
          "output_type": "execute_result",
          "data": {
            "text/plain": [
              "<module 'matplotlib.pyplot' from '/usr/local/lib/python3.11/dist-packages/matplotlib/pyplot.py'>"
            ]
          },
          "metadata": {},
          "execution_count": 24
        },
        {
          "output_type": "display_data",
          "data": {
            "text/plain": [
              "<Figure size 640x480 with 1 Axes>"
            ],
            "image/png": "[encoded data removed]"
          },
          "metadata": {}
        }
      ]
    },
    {
      "cell_type": "code",
      "source": [
        "#12.Implement and compare simple random sampling and systematic sampling.\n",
        "import numpy as np\n",
        "import pandas as pd\n",
        "import matplotlib.pyplot as plt\n",
        "np.random.seed(42)\n",
        "population = pd.DataFrame({\n",
        "    'ID': np.arange(1, 1001),\n",
        "    'Value': np.random.normal(loc=50, scale=10, size=1000)\n",
        "})\n",
        "n = 100\n",
        "srs_sample = population.sample(n=n, random_state=1)\n",
        "k = len(population) // n\n",
        "start = np.random.randint(0, k)\n",
        "systematic_indices = np.arange(start, start + k * n, k)\n",
        "sys_sample = population.iloc[systematic_indices]\n",
        "print(\"Population mean:\", population['Value'].mean())\n",
        "print(\"SRS sample mean:\", srs_sample['Value'].mean())\n",
        "print(\"Systematic sample mean:\", sys_sample['Value'].mean())\n",
        "plt.hist(population['Value'], bins=30, alpha=0.5, label='Population')\n",
        "plt.hist(srs_sample['Value'], bins=30, alpha=0.5, label='SRS')\n",
        "plt.hist(sys_sample['Value'], bins=30, alpha=0.5, label='Systematic')\n",
        "plt.legend()\n",
        "plt.title(\"Sampling Method Comparison\")\n",
        "plt.xlabel(\"Value\")\n",
        "plt.ylabel(\"Frequency\")\n",
        "plt.show()\n",
        "\n",
        "\n"
      ],
      "metadata": {
        "id": "wiWUsDme_z6S",
        "colab": {
          "base_uri": "https://localhost:8080/",
          "height": 524
        },
        "outputId": "39623577-c4c2-4a23-fc31-38317c07c288"
      },
      "execution_count": 1,
      "outputs": [
        {
          "output_type": "stream",
          "name": "stdout",
          "text": [
            "Population mean: 50.193320558223256\n",
            "SRS sample mean: 49.985944565344234\n",
            "Systematic sample mean: 49.5222819305622\n"
          ]
        },
        {
          "output_type": "display_data",
          "data": {
            "text/plain": [
              "<Figure size 640x480 with 1 Axes>"
            ],
            "image/png": "[encoded data removed]"
          },
          "metadata": {}
        }
      ]
    },
    {
      "cell_type": "code",
      "source": [
        "#13.Calculate the mean, median, and mode of grouped data.\n",
        "import pandas as pd\n",
        "data={\n",
        "    'Class Interval': ['10-20', '20-30', '30-40', '40-50', '50-60'],\n",
        "    'Frequency': [5, 8, 15, 16, 6]\n",
        "}\n",
        "df = pd.DataFrame(data)\n",
        "df[['Lower', 'Upper']] = df['Class Interval'].str.split('-', expand=True).astype(int)\n",
        "df['Midpoint'] = (df['Lower'] + df['Upper']) / 2\n",
        "#Mean\n",
        "df['f * x'] = df['Frequency'] * df['Midpoint']\n",
        "mean = df['f * x'].sum() / df['Frequency'].sum()\n",
        "#Median\n",
        "cf = df['Frequency'].cumsum()\n",
        "n = df['Frequency'].sum()\n",
        "median_class_index = cf[cf >= n/2].index[0]\n",
        "median_class = df.loc[median_class_index]\n",
        "L = median_class['Lower']\n",
        "F = df['Frequency'].iloc[median_class_index]\n",
        "CF = cf.iloc[median_class_index - 1] if median_class_index > 0 else 0\n",
        "h = median_class['Upper'] - median_class['Lower']\n",
        "median = L + ((n/2 - CF) / F) * h\n",
        "#Mode\n",
        "modal_class_index = df['Frequency'].idxmax()\n",
        "modal_class = df.loc[modal_class_index]\n",
        "f1 = modal_class['Frequency']\n",
        "f0 = df['Frequency'].iloc[modal_class_index - 1] if modal_class_index > 0 else 0\n",
        "f2 = df['Frequency'].iloc[modal_class_index + 1] if modal_class_index < len(df) - 1 else 0\n",
        "L = modal_class['Lower']\n",
        "h = modal_class['Upper'] - modal_class['Lower']\n",
        "mode = L + ((f1 - f0) / ((2*f1 - f0 - f2))) * h\n",
        "print(f\"Mean: {mean:.2f}\")\n",
        "print(f\"Median: {median:.2f}\")\n",
        "print(f\"Mode: {mode:.2f}\")\n"
      ],
      "metadata": {
        "colab": {
          "base_uri": "https://localhost:8080/"
        },
        "id": "Qdo1Cep7rtnz",
        "outputId": "6298e1af-28bd-422a-a908-1fb39fc9d8c3"
      },
      "execution_count": 2,
      "outputs": [
        {
          "output_type": "stream",
          "name": "stdout",
          "text": [
            "Mean: 37.00\n",
            "Median: 38.00\n",
            "Mode: 40.91\n"
          ]
        }
      ]
    },
    {
      "cell_type": "code",
      "source": [
        "#14.Simulate data using Python and calculate its central tendency and dispersion.\n",
        "import numpy as np\n",
        "import pandas as pd\n",
        "from scipy import stats\n",
        "np.random.seed(42)\n",
        "data = np.random.normal(loc=70, scale=10, size=200)\n",
        "data_series = pd.Series(data)\n",
        "#Central Tendency\n",
        "mean = data_series.mean()\n",
        "median = data_series.median()\n",
        "mode = data_series.mode().iloc[0]  # In case of multiple modes\n",
        "#Dispersion\n",
        "variance = data_series.var()\n",
        "std_dev = data_series.std()\n",
        "data_range = data_series.max() - data_series.min()\n",
        "iqr = stats.iqr(data_series)\n",
        "#Display the results\n",
        "print(f\"Mean: {mean:.2f}\")\n",
        "print(f\"Median: {median:.2f}\")\n",
        "print(f\"Mode: {mode:.2f}\")\n",
        "print(f\"Variance: {variance:.2f}\")\n",
        "print(f\"Standard Deviation: {std_dev:.2f}\")\n",
        "print(f\"Range: {data_range:.2f}\")\n",
        "print(f\"Interquartile Range (IQR): {iqr:.2f}\")\n"
      ],
      "metadata": {
        "colab": {
          "base_uri": "https://localhost:8080/"
        },
        "id": "lviCphIotC8s",
        "outputId": "8f250f8a-2249-4de2-8899-596cb629cbbe"
      },
      "execution_count": 3,
      "outputs": [
        {
          "output_type": "stream",
          "name": "stdout",
          "text": [
            "Mean: 69.59\n",
            "Median: 69.96\n",
            "Mode: 43.80\n",
            "Variance: 86.68\n",
            "Standard Deviation: 9.31\n",
            "Range: 53.40\n",
            "Interquartile Range (IQR): 12.06\n"
          ]
        }
      ]
    },
    {
      "cell_type": "code",
      "source": [
        "#15.Use NumPy or pandas to summarize a dataset’s descriptive statistics.\n",
        "import numpy as np\n",
        "import pandas as pd\n",
        "np.random.seed(0)\n",
        "data = np.random.normal(loc=100, scale=15, size=1000)\n",
        "df = pd.DataFrame({'Scores': data})\n",
        "summary = df.describe()\n",
        "print(summary)\n",
        "\n"
      ],
      "metadata": {
        "colab": {
          "base_uri": "https://localhost:8080/"
        },
        "id": "7LMRxs0ztqLP",
        "outputId": "1967c998-6c78-4381-9f5f-3208d402dcd8"
      },
      "execution_count": 4,
      "outputs": [
        {
          "output_type": "stream",
          "name": "stdout",
          "text": [
            "            Scores\n",
            "count  1000.000000\n",
            "mean     99.321149\n",
            "std      14.812906\n",
            "min      54.307854\n",
            "25%      89.523699\n",
            "50%      99.129579\n",
            "75%     109.104259\n",
            "max     141.390327\n"
          ]
        }
      ]
    },
    {
      "cell_type": "code",
      "source": [
        "#16.Plot a boxplot to understand the spread and identify outliers.\n",
        "import numpy as np\n",
        "import pandas as pd\n",
        "import matplotlib.pyplot as plt\n",
        "np.random.seed(1)\n",
        "data = np.random.normal(loc=75, scale=12, size=200)\n",
        "df = pd.DataFrame({'Scores': data})\n",
        "plt.figure(figsize=(8, 5))\n",
        "plt.boxplot(df['Scores'], vert=False, patch_artist=True,\n",
        "            boxprops=dict(facecolor='lightblue', color='blue'),\n",
        "            medianprops=dict(color='red'),\n",
        "            flierprops=dict(marker='o', markerfacecolor='orange', markersize=8))\n",
        "plt.title('Boxplot of Scores')\n",
        "plt.xlabel('Score')\n",
        "plt.grid(True)\n",
        "plt.show()\n"
      ],
      "metadata": {
        "colab": {
          "base_uri": "https://localhost:8080/",
          "height": 487
        },
        "id": "BBvwz-KLuXrz",
        "outputId": "0918b38e-f0b8-487f-95bc-16ef4d4e3fb2"
      },
      "execution_count": 5,
      "outputs": [
        {
          "output_type": "display_data",
          "data": {
            "text/plain": [
              "<Figure size 800x500 with 1 Axes>"
            ],
            "image/png": "[encoded data removed]"
          },
          "metadata": {}
        }
      ]
    },
    {
      "cell_type": "code",
      "source": [
        "#17. Calculate the interquartile range (IQR) of a dataset.\n",
        "import numpy as np\n",
        "import pandas as pd\n",
        "np.random.seed(0)\n",
        "data = np.random.normal(loc=100, scale=15, size=100)\n",
        "series = pd.Series(data)\n",
        "Q1 = series.quantile(0.25)\n",
        "Q3 = series.quantile(0.75)\n",
        "IQR = Q3 - Q1\n",
        "print(f\"Q1 (25th percentile): {Q1:.2f}\")\n",
        "print(f\"Q3 (75th percentile): {Q3:.2f}\")\n",
        "print(f\"IQR: {IQR:.2f}\")\n"
      ],
      "metadata": {
        "colab": {
          "base_uri": "https://localhost:8080/"
        },
        "id": "9C5PJA3quxPs",
        "outputId": "5c54cd11-89d5-4a95-e35f-f95081b145d8"
      },
      "execution_count": 6,
      "outputs": [
        {
          "output_type": "stream",
          "name": "stdout",
          "text": [
            "Q1 (25th percentile): 90.34\n",
            "Q3 (75th percentile): 111.06\n",
            "IQR: 20.71\n"
          ]
        }
      ]
    },
    {
      "cell_type": "code",
      "source": [
        "#18. Implement Z-score normalization and explain its significance.\n",
        "import numpy as np\n",
        "import pandas as pd\n",
        "np.random.seed(42)\n",
        "data = np.random.normal(loc=100, scale=20, size=10)\n",
        "df = pd.DataFrame({'Original': data})\n",
        "mean = df['Original'].mean()\n",
        "std = df['Original'].std()\n",
        "df['Z-score'] = (df['Original'] - mean) / std\n",
        "print(df)\n",
        "\n"
      ],
      "metadata": {
        "colab": {
          "base_uri": "https://localhost:8080/"
        },
        "id": "zV67fV3dvHly",
        "outputId": "bf046544-bf0d-432a-db9e-3b32b6f51dda"
      },
      "execution_count": 10,
      "outputs": [
        {
          "output_type": "stream",
          "name": "stdout",
          "text": [
            "     Original   Z-score\n",
            "0  109.934283  0.067293\n",
            "1   97.234714 -0.810952\n",
            "2  112.953771  0.276107\n",
            "3  130.460597  1.486800\n",
            "4   95.316933 -0.943578\n",
            "5   95.317261 -0.943555\n",
            "6  131.584256  1.564507\n",
            "7  115.348695  0.441729\n",
            "8   90.610512 -1.269052\n",
            "9  110.851201  0.130702\n"
          ]
        }
      ]
    },
    {
      "cell_type": "code",
      "source": [
        "#19. Compare two datasets using their standard deviations.\n",
        "import numpy as np\n",
        "import pandas as pd\n",
        "np.random.seed(0)\n",
        "data1 = np.random.normal(loc=50, scale=5, size=100)\n",
        "data2 = np.random.normal(loc=50, scale=15, size=100)\n",
        "df = pd.DataFrame({\n",
        "    'Dataset_A': data1,\n",
        "    'Dataset_B': data2\n",
        "})\n",
        "std_A = df['Dataset_A'].std()\n",
        "std_B = df['Dataset_B'].std()\n",
        "print(f\"Standard Deviation of Dataset A: {std_A:.2f}\")\n",
        "print(f\"Standard Deviation of Dataset B: {std_B:.2f}\")\n",
        "\n"
      ],
      "metadata": {
        "colab": {
          "base_uri": "https://localhost:8080/"
        },
        "id": "JksMTbbgwHII",
        "outputId": "79dab18c-e56e-43a7-cfa8-4de9badc85b1"
      },
      "execution_count": 11,
      "outputs": [
        {
          "output_type": "stream",
          "name": "stdout",
          "text": [
            "Standard Deviation of Dataset A: 5.06\n",
            "Standard Deviation of Dataset B: 15.60\n"
          ]
        }
      ]
    },
    {
      "cell_type": "code",
      "source": [
        "#20.Write a Python program to visualize covariance using a heatmap.\n",
        "import numpy as np\n",
        "import pandas as pd\n",
        "import seaborn as sns\n",
        "import matplotlib.pyplot as plt\n",
        "np.random.seed(42)\n",
        "x = np.random.normal(10, 2, 100)\n",
        "y = 2 * x + np.random.normal(0, 1, 100)\n",
        "z = np.random.normal(50, 10, 100)\n",
        "df = pd.DataFrame({'X': x, 'Y': y, 'Z': z})\n",
        "cov_matrix = df.cov()\n",
        "plt.figure(figsize=(6, 4))\n",
        "sns.heatmap(cov_matrix, annot=True, cmap='coolwarm', fmt=\".2f\")\n",
        "plt.title('Covariance Heatmap')\n",
        "plt.tight_layout()\n",
        "plt.show()\n"
      ],
      "metadata": {
        "colab": {
          "base_uri": "https://localhost:8080/",
          "height": 407
        },
        "id": "vbtNALt9w5XQ",
        "outputId": "22a04e66-4307-465d-ca7c-6f6fac4e45bd"
      },
      "execution_count": 12,
      "outputs": [
        {
          "output_type": "display_data",
          "data": {
            "text/plain": [
              "<Figure size 600x400 with 2 Axes>"
            ],
            "image/png": "[encoded data removed]"
          },
          "metadata": {}
        }
      ]
    },
    {
      "cell_type": "code",
      "source": [
        "#21. Use seaborn to create a correlation matrix for a dataset.\n",
        "import numpy as np\n",
        "import pandas as pd\n",
        "import seaborn as sns\n",
        "import matplotlib.pyplot as plt\n",
        "np.random.seed(0)\n",
        "data = {\n",
        "    'A': np.random.normal(10, 2, 100),\n",
        "    'B': np.random.normal(20, 5, 100),\n",
        "    'C': np.random.normal(30, 10, 100)\n",
        "}\n",
        "df = pd.DataFrame(data)\n",
        "df['D'] = df['A'] * 2 + np.random.normal(0, 1, 100)\n",
        "corr_matrix = df.corr()\n",
        "plt.figure(figsize=(8, 6))\n",
        "sns.heatmap(corr_matrix, annot=True, cmap='coolwarm', fmt=\".2f\", square=True, linewidths=0.5)\n",
        "plt.title('Correlation Matrix Heatmap')\n",
        "plt.tight_layout()\n",
        "plt.show()\n"
      ],
      "metadata": {
        "colab": {
          "base_uri": "https://localhost:8080/",
          "height": 607
        },
        "id": "yi9T3mSJxV1V",
        "outputId": "1dda9b28-7006-42ed-ea0a-b8151ed1b31b"
      },
      "execution_count": 13,
      "outputs": [
        {
          "output_type": "display_data",
          "data": {
            "text/plain": [
              "<Figure size 800x600 with 2 Axes>"
            ],
            "image/png": "[encoded data removed]"
          },
          "metadata": {}
        }
      ]
    },
    {
      "cell_type": "code",
      "source": [
        "#22.Generate a dataset and implement both variance and standard deviation computations.\n",
        "import numpy as np\n",
        "import pandas as pd\n",
        "np.random.seed(42)\n",
        "data = np.random.normal(loc=50, scale=10, size=100)\n",
        "df = pd.DataFrame({'Data': data})\n",
        "variance = np.var(df['Data'], ddof=1)\n",
        "std_deviation = np.std(df['Data'], ddof=1)\n",
        "print(f\"Variance: {variance:.2f}\")\n",
        "print(f\"Standard Deviation: {std_deviation:.2f}\")\n"
      ],
      "metadata": {
        "colab": {
          "base_uri": "https://localhost:8080/"
        },
        "id": "nMuhPwyOxrlH",
        "outputId": "3ed3e71c-922f-432f-cc35-dd7d8b30a5f3"
      },
      "execution_count": 14,
      "outputs": [
        {
          "output_type": "stream",
          "name": "stdout",
          "text": [
            "Variance: 82.48\n",
            "Standard Deviation: 9.08\n"
          ]
        }
      ]
    },
    {
      "cell_type": "code",
      "source": [
        "#23. Visualize skewness and kurtosis using Python libraries like matplotlib or seaborn.\n",
        "import numpy as np\n",
        "import pandas as pd\n",
        "import seaborn as sns\n",
        "import matplotlib.pyplot as plt\n",
        "from scipy.stats import skew, kurtosis\n",
        "np.random.seed(42)\n",
        "data = np.random.lognormal(mean=0, sigma=1, size=1000)\n",
        "df = pd.DataFrame({'Data': data})\n",
        "data_skewness = skew(df['Data'])\n",
        "data_kurtosis = kurtosis(df['Data'])\n",
        "plt.figure(figsize=(10, 6))\n",
        "sns.histplot(df['Data'], kde=True, color='skyblue', stat='density')\n",
        "plt.title(f'Skewness: {data_skewness:.2f}, Kurtosis: {data_kurtosis:.2f}')\n",
        "plt.xlabel('Value')\n",
        "plt.ylabel('Density')\n",
        "plt.show()\n",
        "print(f\"Skewness: {data_skewness:.2f}\")\n",
        "print(f\"Kurtosis: {data_kurtosis:.2f}\")\n"
      ],
      "metadata": {
        "colab": {
          "base_uri": "https://localhost:8080/",
          "height": 599
        },
        "id": "Sy9HN7M1yIgH",
        "outputId": "3782f1ea-27f0-4eb4-ddda-8f700ba11286"
      },
      "execution_count": 15,
      "outputs": [
        {
          "output_type": "display_data",
          "data": {
            "text/plain": [
              "<Figure size 1000x600 with 1 Axes>"
            ],
            "image/png": "[encoded data removed]"
          },
          "metadata": {}
        },
        {
          "output_type": "stream",
          "name": "stdout",
          "text": [
            "Skewness: 8.30\n",
            "Kurtosis: 126.00\n"
          ]
        }
      ]
    },
    {
      "cell_type": "code",
      "source": [
        "#24.Implement the Pearson and Spearman correlation coefficients for a dataset.\n",
        "import numpy as np\n",
        "import pandas as pd\n",
        "from scipy.stats import pearsonr, spearmanr\n",
        "np.random.seed(42)\n",
        "x = np.random.normal(0, 1, 100)\n",
        "y = 2 * x + np.random.normal(0, 0.5, 100)\n",
        "df = pd.DataFrame({'X': x, 'Y': y})\n",
        "pearson_corr, _ = pearsonr(df['X'], df['Y'])\n",
        "spearman_corr, _ = spearmanr(df['X'], df['Y'])\n",
        "print(f\"Pearson Correlation: {pearson_corr:.2f}\")\n",
        "print(f\"Spearman Correlation: {spearman_corr:.2f}\")\n"
      ],
      "metadata": {
        "colab": {
          "base_uri": "https://localhost:8080/"
        },
        "id": "i1uQyy9vycWZ",
        "outputId": "f8a9ea49-4493-4032-d63c-90998ff8ccbf"
      },
      "execution_count": 16,
      "outputs": [
        {
          "output_type": "stream",
          "name": "stdout",
          "text": [
            "Pearson Correlation: 0.97\n",
            "Spearman Correlation: 0.96\n"
          ]
        }
      ]
    }
  ]
}